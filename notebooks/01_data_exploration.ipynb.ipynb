{
 "cells": [
  {
   "cell_type": "markdown",
   "id": "9d380fc4-95d1-4151-ab54-35ecc3ef90ec",
   "metadata": {
    "editable": true,
    "slideshow": {
     "slide_type": ""
    },
    "tags": []
   },
   "source": [
    "## Understanding the Challenge Data\n",
    "\n",
    "### The Mission (kinda cool actually)\n",
    "We're helping young people in Brazil find green jobs. UNICEF partnership, climate action, meaningful careers - the whole deal. \n",
    "And because it's 2025 we will build AI agents that can sift through job descriptions and training programs, match them to people's profiles, and do it efficiently and ethically!\n",
    "\n",
    "**The Brazilian green jobs landscape we're working with:**\n",
    "- **Major cities**: São Paulo (finance & tech hub), Rio de Janeiro (energy & environment), Brasília (policy & government), Salvador (renewable energy), Recife (innovation centers)\n",
    "- **Key sectors**: Renewable energy (solar, wind, hydro), sustainable agriculture, environmental consulting, green construction, waste management\n",
    "- **Companies leading the charge**: Petrobras (transitioning to renewables), Vale (sustainable mining), Suzano (sustainable forestry), plus hundreds of green startups"
   ]
  },
  {
   "cell_type": "markdown",
   "id": "375fc5fe-05fa-4aae-b7e2-f3fc627a8f0b",
   "metadata": {},
   "source": [
    "We have a `data` directory with:\n",
    "- **`jobs/`** - 200 job postings\n",
    "- **`trainings/`** - 497 training programs\n",
    "\n",
    "### Quick math reality check\n",
    "697 items × however many personas we need to match = potentially expensive if we're not careful with API calls.\n",
    "\n",
    "This is where being smart about it pays off. Literally."
   ]
  },
  {
   "cell_type": "code",
   "execution_count": 1,
   "id": "1ec53a31-3ad1-450d-97ae-e6e57fc09ed4",
   "metadata": {},
   "outputs": [
    {
     "name": "stdout",
     "output_type": "stream",
     "text": [
      "Dataset Overview:\n",
      "Jobs: 200\n",
      "Trainings: 497\n",
      "Total items: 697\n"
     ]
    }
   ],
   "source": [
    "# Let's see what we're working with\n",
    "from pathlib import Path\n",
    "\n",
    "# Count files and get basic statistics\n",
    "jobs_dir = Path('../data/jobs')\n",
    "trainings_dir = Path('../data/trainings')\n",
    "\n",
    "job_files = list(jobs_dir.glob('*.md')) if jobs_dir.exists() else []\n",
    "training_files = list(trainings_dir.glob('*.md')) if trainings_dir.exists() else []\n",
    "\n",
    "print(f\"Dataset Overview:\")\n",
    "print(f\"Jobs: {len(job_files)}\")\n",
    "print(f\"Trainings: {len(training_files)}\")\n",
    "print(f\"Total items: {len(job_files) + len(training_files)}\")"
   ]
  },
  {
   "cell_type": "markdown",
   "id": "a173c7f6-7f70-47fd-a31d-1078f06885c6",
   "metadata": {},
   "source": [
    "### Let's look at a job posting"
   ]
  },
  {
   "cell_type": "code",
   "execution_count": 2,
   "id": "600260c2-dd12-48e5-8933-87b28e5f6561",
   "metadata": {},
   "outputs": [],
   "source": [
    "# Helper function to peek at files\n",
    "from IPython.display import Markdown, display\n",
    "\n",
    "def display_markdown_file(path: str) -> None:\n",
    "    \"\"\"Display a markdown file in Jupyter - nothing fancy\"\"\"\n",
    "    p = Path(path)\n",
    "    if not p.exists():\n",
    "        print(f\"File not found: {p}\")\n",
    "        return\n",
    "    content = p.read_text(encoding='utf-8', errors='ignore')\n",
    "    display(Markdown(content))"
   ]
  },
  {
   "cell_type": "code",
   "execution_count": 5,
   "id": "df86ddca-4926-425e-b657-fc731fc5697b",
   "metadata": {},
   "outputs": [
    {
     "data": {
      "text/markdown": [
       "# Join Our Team as a Banking Operations Supervisor!\n",
       "\n",
       "**Your Role:**\n",
       "You'll oversee daily banking operations in Brasília, ensuring our processes run smoothly and meet regulatory standards. This position requires someone who can manage documentation workflows and maintain compliance across all operational areas.\n",
       "\n",
       "**What We're Looking For:**\n",
       "- **Tecnólogo degree** with at least **1 year of experience** in banking or financial operations\n",
       "- **Intermediate skills** in managing document control systems and preparing regulatory reports\n",
       "- **Basic understanding** of compliance oversight and regulatory requirements\n",
       "- Someone who pays attention to detail and can work effectively with cross-functional teams\n",
       "- **Fluent Portuguese** communication skills for daily operations and reporting\n",
       "\n",
       "**Your Key Responsibilities:**\n",
       "- Supervise document control processes to ensure accuracy and timeliness\n",
       "- Prepare and review regulatory reports for submission to banking authorities\n",
       "- Monitor compliance procedures and identify areas for improvement\n",
       "- Coordinate with different departments to maintain operational efficiency\n",
       "\n",
       "**Location:**\n",
       "This position is based in **Brasília** and requires in-person presence for daily banking operations oversight.\n",
       "\n",
       "**Ready to take the next step in your banking career?** This role offers the opportunity to develop your expertise in administrative management within the banking sector while working with regulatory frameworks that keep our operations compliant and efficient.\n",
       "\n",
       "Apply now to join our banking operations team in Brasília."
      ],
      "text/plain": [
       "<IPython.core.display.Markdown object>"
      ]
     },
     "metadata": {},
     "output_type": "display_data"
    }
   ],
   "source": [
    "# Display a sample job\n",
    "display_markdown_file(job_files[0])"
   ]
  },
  {
   "cell_type": "markdown",
   "id": "a7a63792-c803-4126-a9c4-b43ce0f9aed0",
   "metadata": {},
   "source": [
    "### And a training program"
   ]
  },
  {
   "cell_type": "code",
   "execution_count": 4,
   "id": "7f42122c-d21b-44e9-a77b-982a7a84030d",
   "metadata": {
    "editable": true,
    "slideshow": {
     "slide_type": ""
    },
    "tags": []
   },
   "outputs": [
    {
     "data": {
      "text/markdown": [
       "**Why take this course?**\n",
       "\n",
       "This **Client Support Fundamentals** training will help you:\n",
       "\n",
       "✅ Master essential client interaction techniques at a foundational level  \n",
       "✅ Apply best practices for transparency and compliance  \n",
       "✅ Strengthen your resume with a recognized credential\n",
       "\n",
       "**Course Details:**\n",
       "- **Duration:** 12 weeks\n",
       "- **Format:** Online\n",
       "- **Language:** Portuguese (Brazil)\n",
       "- **Certification:** Yes\n",
       "\n",
       "**Prerequisites:**\n",
       "None\n",
       "\n",
       "**Don't miss the chance to stand out—register today!**"
      ],
      "text/plain": [
       "<IPython.core.display.Markdown object>"
      ]
     },
     "metadata": {},
     "output_type": "display_data"
    }
   ],
   "source": [
    "# Display a sample training\n",
    "display_markdown_file(training_files[0])"
   ]
  },
  {
   "cell_type": "markdown",
   "id": "500efaf0-db62-4c18-b85c-f84ce524af55",
   "metadata": {},
   "source": [
    "### What you'll notice\n",
    "\n",
    "Both jobs and trainings have:\n",
    "- **Overview/Description** \n",
    "- **Location** (this matters for matching)\n",
    "- **Prerequisites** (skills, experience levels)\n",
    "- **Outcomes** (for trainings)\n",
    "\n",
    "But here's the kicker: they're not consistently formatted. Some use different headers, different structures, different language. \n",
    "Our solution needs to handle this chaos gracefully. \n",
    "\n",
    "This is why we can't just use regex or simple parsing - we need something smarter: GenAI!"
   ]
  }
 ],
 "metadata": {
  "kernelspec": {
   "display_name": "conda_python3",
   "language": "python",
   "name": "conda_python3"
  },
  "language_info": {
   "codemirror_mode": {
    "name": "ipython",
    "version": 3
   },
   "file_extension": ".py",
   "mimetype": "text/x-python",
   "name": "python",
   "nbconvert_exporter": "python",
   "pygments_lexer": "ipython3",
   "version": "3.10.18"
  }
 },
 "nbformat": 4,
 "nbformat_minor": 5
}
